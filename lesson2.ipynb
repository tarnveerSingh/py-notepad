{
  "nbformat": 4,
  "nbformat_minor": 0,
  "metadata": {
    "colab": {
      "provenance": [],
      "include_colab_link": true
    },
    "kernelspec": {
      "name": "python3",
      "display_name": "Python 3"
    },
    "language_info": {
      "name": "python"
    }
  },
  "cells": [
    {
      "cell_type": "markdown",
      "metadata": {
        "id": "view-in-github",
        "colab_type": "text"
      },
      "source": [
        "<a href=\"https://colab.research.google.com/github/tarnveerSingh/py-notepad/blob/main/lesson2.ipynb\" target=\"_parent\"><img src=\"https://colab.research.google.com/assets/colab-badge.svg\" alt=\"Open In Colab\"/></a>"
      ]
    },
    {
      "cell_type": "markdown",
      "source": [
        "* Is this a design needing a class? - no BUT we can use a dataclass to represent a 'note'\n",
        "* implementation will be global (not under any function or class)\n",
        "* security - user will need to login in order to see notes and create notes"
      ],
      "metadata": {
        "id": "A48qWSJMl97r"
      }
    },
    {
      "cell_type": "code",
      "execution_count": null,
      "metadata": {
        "id": "uApKwwsneCV-"
      },
      "outputs": [],
      "source": [
        "from pydantic import BaseModel\n",
        "import secrets\n",
        "from datetime import datetime, date"
      ]
    },
    {
      "cell_type": "code",
      "source": [
        "class Note(BaseModel):\n",
        "  id: str\n",
        "  title: str\n",
        "  created_at: date\n",
        "  content: str"
      ],
      "metadata": {
        "id": "6XYCityneHnK"
      },
      "execution_count": null,
      "outputs": []
    },
    {
      "cell_type": "code",
      "source": [
        "# my_note = Note(\n",
        "#     id=\"1\",\n",
        "#     title=\"first note\",\n",
        "#     date=\"2025-06-07\",\n",
        "#     content=\"first note with first program\"\n",
        "# )"
      ],
      "metadata": {
        "collapsed": true,
        "id": "8Zjh3LiaeHk9"
      },
      "execution_count": null,
      "outputs": []
    },
    {
      "cell_type": "code",
      "source": [
        "notes = [] # this area\n",
        "users_db = {\n",
        "    \"admin\": {\n",
        "        \"password\": \"pass123\",\n",
        "        \"notes\": []\n",
        "    },\n",
        "    \"john\": {\n",
        "        \"password\": \"john123\",\n",
        "        \"notes\": []\n",
        "    }\n",
        "}"
      ],
      "metadata": {
        "id": "PMgodogloou-"
      },
      "execution_count": null,
      "outputs": []
    },
    {
      "cell_type": "code",
      "source": [
        "# this area\n",
        "def create_note(username, title, content):\n",
        "    if username not in users_db:\n",
        "        print(\"User not found!\")\n",
        "        return\n",
        "\n",
        "    id = secrets.token_hex(3)\n",
        "    print(secrets.token_hex(3))\n",
        "    created_at = datetime.now().date()\n",
        "\n",
        "    new_note = {\n",
        "        \"id\": id,\n",
        "        \"created_at\": str(created_at),\n",
        "        \"title\": title,\n",
        "        \"content\": content,\n",
        "        \"created_by\": username   # ✅ Add this line\n",
        "    }\n",
        "\n",
        "    # store only inside that user’s notes list\n",
        "    users_db[username][\"notes\"].append(new_note)\n",
        "    print(f\"Your new note {id} has been saved for {username}.\")"
      ],
      "metadata": {
        "id": "7iZs6ORYorZl"
      },
      "execution_count": null,
      "outputs": []
    },
    {
      "cell_type": "code",
      "source": [
        "def fetch_all_notes(username):\n",
        "    \"\"\"Fetch notes for a specific user only.\"\"\"\n",
        "    if username not in users_db:\n",
        "        print(\"User not found!\")\n",
        "        return\n",
        "\n",
        "    notes = users_db[username][\"notes\"]\n",
        "\n",
        "    if not notes:\n",
        "        print(\"No notes found for this user.\")\n",
        "        return\n",
        "\n",
        "    for nt in notes:\n",
        "        print(f\"ID: {nt['id']} \\nTitle: {nt['title']} \\nDate: {nt['created_at']} \\nContent: {nt['content']}\\n\")"
      ],
      "metadata": {
        "id": "xjrT41TYpyw9"
      },
      "execution_count": null,
      "outputs": []
    },
    {
      "cell_type": "code",
      "source": [
        "def search_note(username, note_id):\n",
        "    if username not in users_db:\n",
        "        print(\"User not found!\")\n",
        "        return\n",
        "\n",
        "    try:\n",
        "        # search only in this user's notes\n",
        "        nt = [nt for nt in users_db[username][\"notes\"] if nt[\"id\"] == note_id][0]\n",
        "        print(f\"ID: {nt['id']} \\nTitle: {nt['title']} \\nDate: {nt['created_at']} \\nContent: {nt['content']}\\n\")\n",
        "\n",
        "    except:\n",
        "        print(\"Note not found...try again \\n\")\n"
      ],
      "metadata": {
        "id": "h5x927p5rPte"
      },
      "execution_count": null,
      "outputs": []
    },
    {
      "cell_type": "code",
      "source": [
        "username = input(\"Enter username > \")\n",
        "password = input(\"Enter password > \")\n",
        "\n",
        "# check credentials\n",
        "if username in users_db and password == users_db[username][\"password\"]:\n",
        "    print(f\"\\nWelcome, {username}!\\n\")\n",
        "\n",
        "    while True:\n",
        "        print(\"======================\")\n",
        "        print(\"|                    |\")\n",
        "        print(\"|  1. Create Note    |\")\n",
        "        print(\"|  2. All Notes      |\")\n",
        "        print(\"|  3. Search Note    |\")\n",
        "        print(\"|  4. Exit           |\")\n",
        "        print(\"|                    |\")\n",
        "        print(\"======================\")\n",
        "\n",
        "        option = input(\"Enter option > \")\n",
        "\n",
        "        if option == \"1\":\n",
        "           title = input(\"Enter note title > \")\n",
        "           content = input(\"Enter note content > \")\n",
        "           create_note(username, title, content)\n",
        "\n",
        "        elif option == \"2\":\n",
        "            fetch_all_notes(username)\n",
        "\n",
        "        elif option == \"3\":\n",
        "            note_id = input(\"Enter note ID > \")\n",
        "            search_note(username, note_id)\n",
        "\n",
        "        elif option == \"4\":\n",
        "            print(\"Goodbye!\")\n",
        "            break\n",
        "\n",
        "        else:\n",
        "            print(\"Invalid option, try again.\\n\")\n",
        "\n",
        "else:\n",
        "    print(\"Invalid username or password!\")"
      ],
      "metadata": {
        "colab": {
          "base_uri": "https://localhost:8080/",
          "height": 245
        },
        "id": "Pm6988zseHiw",
        "outputId": "2d876dd8-24b7-4b18-91b1-6334e63c2310"
      },
      "execution_count": null,
      "outputs": [
        {
          "name": "stdout",
          "output_type": "stream",
          "text": [
            "Enter username > john\n",
            "Enter password > john123\n"
          ]
        },
        {
          "output_type": "error",
          "ename": "NameError",
          "evalue": "name 'users_db' is not defined",
          "traceback": [
            "\u001b[0;31m---------------------------------------------------------------------------\u001b[0m",
            "\u001b[0;31mNameError\u001b[0m                                 Traceback (most recent call last)",
            "\u001b[0;32m/tmp/ipython-input-3783455025.py\u001b[0m in \u001b[0;36m<cell line: 0>\u001b[0;34m()\u001b[0m\n\u001b[1;32m      3\u001b[0m \u001b[0;34m\u001b[0m\u001b[0m\n\u001b[1;32m      4\u001b[0m \u001b[0;31m# check credentials\u001b[0m\u001b[0;34m\u001b[0m\u001b[0;34m\u001b[0m\u001b[0m\n\u001b[0;32m----> 5\u001b[0;31m \u001b[0;32mif\u001b[0m \u001b[0musername\u001b[0m \u001b[0;32min\u001b[0m \u001b[0musers_db\u001b[0m \u001b[0;32mand\u001b[0m \u001b[0mpassword\u001b[0m \u001b[0;34m==\u001b[0m \u001b[0musers_db\u001b[0m\u001b[0;34m[\u001b[0m\u001b[0musername\u001b[0m\u001b[0;34m]\u001b[0m\u001b[0;34m[\u001b[0m\u001b[0;34m\"password\"\u001b[0m\u001b[0;34m]\u001b[0m\u001b[0;34m:\u001b[0m\u001b[0;34m\u001b[0m\u001b[0;34m\u001b[0m\u001b[0m\n\u001b[0m\u001b[1;32m      6\u001b[0m     \u001b[0mprint\u001b[0m\u001b[0;34m(\u001b[0m\u001b[0;34mf\"\\nWelcome, {username}!\\n\"\u001b[0m\u001b[0;34m)\u001b[0m\u001b[0;34m\u001b[0m\u001b[0;34m\u001b[0m\u001b[0m\n\u001b[1;32m      7\u001b[0m \u001b[0;34m\u001b[0m\u001b[0m\n",
            "\u001b[0;31mNameError\u001b[0m: name 'users_db' is not defined"
          ]
        }
      ]
    },
    {
      "cell_type": "markdown",
      "source": [
        "## Challenge\n",
        "1. you will refactor this code\n",
        "2. instead of storing notes all in one list, you will save notes for a specific user\n",
        "3. how will notes be saved? the user who logs in, you need to get a hold of that user and then save to his list (dictionaries)\n",
        "4. dictionary will contain username, password and their notes list assigned to them"
      ],
      "metadata": {
        "id": "4v_K7C1hxO32"
      }
    },
    {
      "cell_type": "code",
      "source": [],
      "metadata": {
        "id": "Uq88LRgaeHc5"
      },
      "execution_count": null,
      "outputs": []
    },
    {
      "cell_type": "code",
      "source": [],
      "metadata": {
        "id": "cc1TL5TMn8ew"
      },
      "execution_count": null,
      "outputs": []
    },
    {
      "cell_type": "code",
      "source": [],
      "metadata": {
        "id": "q41sDLV_n8cL"
      },
      "execution_count": null,
      "outputs": []
    }
  ]
}